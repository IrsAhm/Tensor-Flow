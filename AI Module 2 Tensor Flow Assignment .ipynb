{
 "cells": [
  {
   "cell_type": "markdown",
   "id": "9ab07efd-ed36-4dfb-b84d-7a91a2ae999e",
   "metadata": {},
   "source": [
    "**Module 2: Tensor Flow Assignment** "
   ]
  },
  {
   "cell_type": "markdown",
   "id": "f7dca65d-5c86-4b5d-b85f-825604db1629",
   "metadata": {},
   "source": [
    "**Tasks to be Done:**\n",
    "\n",
    "**A. Shows how you can create a session in Tensor Flow** \n",
    "\n",
    "**B. Define constants and perform computation such as addition and subtraction with those constants using the session.**\n",
    "\n",
    "**C. Print Hello World using the same** \n",
    "\n",
    "**D. Create a simple Linear Equation y = mx+c  in tensor flow, where m and c are variables and x is a placeholder** \n",
    "\n",
    "**a. Feed in a scalar value to x** \n",
    "\n",
    "**b. Feed in a vector of 5 values to x** \n",
    "\n",
    "**c. Choose arbitrary values for m and c** "
   ]
  },
  {
   "cell_type": "markdown",
   "id": "2b98aec0-45a5-44d1-bbd6-f2d899a276d8",
   "metadata": {},
   "source": [
    "**A. Shows how you can create a session in Tensor Flow**"
   ]
  },
  {
   "cell_type": "code",
   "execution_count": 6,
   "id": "9e762249-93ea-4324-ae71-a760c0cbe60c",
   "metadata": {},
   "outputs": [],
   "source": [
    "import tensorflow as tf"
   ]
  },
  {
   "cell_type": "code",
   "execution_count": 7,
   "id": "23aff5be-d1b7-48f5-bc56-59526874463e",
   "metadata": {},
   "outputs": [
    {
     "name": "stdout",
     "output_type": "stream",
     "text": [
      "TensorFlow version: 2.15.0\n"
     ]
    }
   ],
   "source": [
    "print(\"TensorFlow version:\", tf.__version__)"
   ]
  },
  {
   "cell_type": "code",
   "execution_count": 31,
   "id": "bc6b9451-be11-4a71-a53b-614e1559358e",
   "metadata": {},
   "outputs": [],
   "source": [
    "import tensorflow.compat.v1 as tf\n",
    "tf.disable_v2_behavior()\n"
   ]
  },
  {
   "cell_type": "code",
   "execution_count": 33,
   "id": "a70ec305-4f74-4c3b-ae59-0040a600e3cd",
   "metadata": {},
   "outputs": [
    {
     "name": "stdout",
     "output_type": "stream",
     "text": [
      "b'Hello, TensorFlow!'\n"
     ]
    }
   ],
   "source": [
    "hello = tf.constant('Hello, TensorFlow!')\n",
    "sess = tf.Session()\n",
    "print(sess.run(hello))"
   ]
  },
  {
   "cell_type": "markdown",
   "id": "7b011a78-8265-4c1c-a1a7-90fb078497e3",
   "metadata": {},
   "source": [
    "**B. Define constants and perform computation such as addition and subtraction with those constants using the session.**"
   ]
  },
  {
   "cell_type": "code",
   "execution_count": 34,
   "id": "43c2de98-d59c-4914-ae6b-5400fc3e45cc",
   "metadata": {},
   "outputs": [
    {
     "data": {
      "text/plain": [
       "80"
      ]
     },
     "execution_count": 34,
     "metadata": {},
     "output_type": "execute_result"
    }
   ],
   "source": [
    "a = tf.constant(30)\n",
    "b = tf.constant(50)\n",
    "c=tf.add(a,b)\n",
    "add = a + b\n",
    "sess=tf.Session()\n",
    "sess.run(c)"
   ]
  },
  {
   "cell_type": "code",
   "execution_count": 44,
   "id": "5187a861-0f81-426b-b98d-6da1a38fd4ce",
   "metadata": {},
   "outputs": [
    {
     "data": {
      "text/plain": [
       "20"
      ]
     },
     "execution_count": 44,
     "metadata": {},
     "output_type": "execute_result"
    }
   ],
   "source": [
    "  a = tf.constant(30)\n",
    "  b = tf.constant(50)\n",
    "  d = tf.subtract(b,a)\n",
    "  subtract=b-a\n",
    "  sess=tf.Session()\n",
    "  sess.run(d)\n"
   ]
  },
  {
   "cell_type": "markdown",
   "id": "42a0511d-ef3d-48e8-9471-c4d4294074e9",
   "metadata": {},
   "source": [
    "**C. Print Hello World using the same**"
   ]
  },
  {
   "cell_type": "code",
   "execution_count": 65,
   "id": "78626844-0dfb-4c71-8a86-e2f00901cebe",
   "metadata": {},
   "outputs": [
    {
     "name": "stdout",
     "output_type": "stream",
     "text": [
      "TensorFlow version: 2.15.0\n"
     ]
    }
   ],
   "source": [
    "import tensorflow as tf\n",
    "print(\"TensorFlow version:\", tf.__version__)\n"
   ]
  },
  {
   "cell_type": "code",
   "execution_count": 69,
   "id": "e5b14a5d-772a-423a-8c49-8f990b7df457",
   "metadata": {},
   "outputs": [
    {
     "name": "stdout",
     "output_type": "stream",
     "text": [
      "Hello World\n"
     ]
    }
   ],
   "source": [
    "print('Hello World')"
   ]
  },
  {
   "cell_type": "code",
   "execution_count": 66,
   "id": "3d700555-d770-49d6-8c4f-9fad700f1b7c",
   "metadata": {},
   "outputs": [
    {
     "name": "stdout",
     "output_type": "stream",
     "text": [
      "Tensor(\"Const_21:0\", shape=(), dtype=string)\n"
     ]
    }
   ],
   "source": [
    "import tensorflow as tf\n",
    "a=tf.constant(\"Hello World !!\")\n",
    "print(a)"
   ]
  },
  {
   "cell_type": "markdown",
   "id": "7aef3ce3-f33b-43d5-8ba7-c985e5c82e99",
   "metadata": {},
   "source": [
    "**D. Create a simple Linear Equation y = mx+c in tensor flow, where m and c are variables and x is a placeholder**"
   ]
  },
  {
   "cell_type": "code",
   "execution_count": 88,
   "id": "26804084-389a-4be0-84c3-4002d31ead4e",
   "metadata": {},
   "outputs": [],
   "source": [
    "import tensorflow as tf\n",
    "import keras\n",
    "import matplotlib.pyplot as plt\n",
    "import pandas as pd\n",
    "import numpy as np"
   ]
  },
  {
   "cell_type": "markdown",
   "id": "e030a4c8-7e77-4643-83e6-3d8906f1d5e0",
   "metadata": {},
   "source": [
    "Simple Linear Equation   \n",
    "**y = mx+c** "
   ]
  },
  {
   "cell_type": "code",
   "execution_count": 89,
   "id": "4d9860fb-9e6d-49cc-80da-9b6dcb1a5f04",
   "metadata": {},
   "outputs": [],
   "source": [
    "m=1 #Slop\n",
    "y=10 #yinterept"
   ]
  },
  {
   "cell_type": "code",
   "execution_count": 95,
   "id": "739c1e72-da2b-49c1-bee7-01a4f7dd53f3",
   "metadata": {},
   "outputs": [],
   "source": [
    "X_train=np.arange(-10 , 10)"
   ]
  },
  {
   "cell_type": "code",
   "execution_count": 91,
   "id": "f1a55348-0bab-44f1-985c-9e43c55050db",
   "metadata": {},
   "outputs": [],
   "source": [
    "y_train=m*x_train + c"
   ]
  },
  {
   "cell_type": "code",
   "execution_count": 96,
   "id": "078003bc-5c17-43b7-b07c-4d577b8561f5",
   "metadata": {},
   "outputs": [
    {
     "data": {
      "text/plain": [
       "(array([-10,  -9,  -8,  -7,  -6,  -5,  -4,  -3,  -2,  -1,   0,   1,   2,\n",
       "          3,   4,   5,   6,   7,   8,   9]),\n",
       " <tf.Tensor 'add_1:0' shape=(20,) dtype=int32>)"
      ]
     },
     "execution_count": 96,
     "metadata": {},
     "output_type": "execute_result"
    }
   ],
   "source": [
    "X_train,y_train"
   ]
  },
  {
   "cell_type": "markdown",
   "id": "2ccdc096-0d2a-4a92-852c-c14073382b37",
   "metadata": {},
   "source": [
    "**Create a placeholder**"
   ]
  },
  {
   "cell_type": "code",
   "execution_count": 129,
   "id": "a36e5c2b-3d7e-4993-a861-c9d1261afbd2",
   "metadata": {},
   "outputs": [],
   "source": [
    "tf.compat.v1.disable_eager_execution()"
   ]
  },
  {
   "cell_type": "code",
   "execution_count": 134,
   "id": "308be8ab-3a9f-4f36-a1de-651e8e7718e9",
   "metadata": {},
   "outputs": [],
   "source": [
    "x=tf.compat.v1.placeholder(tf.float32,shape=None)"
   ]
  },
  {
   "cell_type": "code",
   "execution_count": 135,
   "id": "410f37ed-1bb9-40e7-a59f-424c848c2c98",
   "metadata": {},
   "outputs": [
    {
     "name": "stdout",
     "output_type": "stream",
     "text": [
      "Tensor(\"Placeholder_3:0\", dtype=float32)\n"
     ]
    }
   ],
   "source": [
    "print(x)"
   ]
  },
  {
   "cell_type": "code",
   "execution_count": 133,
   "id": "92921de8-1ec9-42cd-b33a-e0eee08c54d5",
   "metadata": {},
   "outputs": [
    {
     "data": {
      "text/plain": [
       "<tf.Variable 'Variable_1:0' shape=(1,) dtype=float32>"
      ]
     },
     "execution_count": 133,
     "metadata": {},
     "output_type": "execute_result"
    }
   ],
   "source": [
    "tf.Variable([-3],dtype=np.float32)"
   ]
  },
  {
   "cell_type": "code",
   "execution_count": 136,
   "id": "9b9cced6-e91d-492c-96b6-54a05558a87d",
   "metadata": {},
   "outputs": [],
   "source": [
    "m=tf.Variable([3],dtype=np.float32)\n",
    "c=tf.Variable([-3],dtype=np.float32)\n",
    "x=tf.compat.v1.placeholder(tf.float32)\n",
    "\n",
    "acc_y=tf.compat.v1.placeholder(tf.float32)"
   ]
  },
  {
   "cell_type": "code",
   "execution_count": 137,
   "id": "1218b237-e4d0-439b-bb59-7e555d0b47f6",
   "metadata": {},
   "outputs": [],
   "source": [
    "linear_model=m*x+c"
   ]
  },
  {
   "cell_type": "code",
   "execution_count": null,
   "id": "03d40bcb-2862-4d4f-b1c3-b3c969c8b867",
   "metadata": {},
   "outputs": [],
   "source": []
  }
 ],
 "metadata": {
  "kernelspec": {
   "display_name": "Python 3 (ipykernel)",
   "language": "python",
   "name": "python3"
  },
  "language_info": {
   "codemirror_mode": {
    "name": "ipython",
    "version": 3
   },
   "file_extension": ".py",
   "mimetype": "text/x-python",
   "name": "python",
   "nbconvert_exporter": "python",
   "pygments_lexer": "ipython3",
   "version": "3.10.13"
  }
 },
 "nbformat": 4,
 "nbformat_minor": 5
}
